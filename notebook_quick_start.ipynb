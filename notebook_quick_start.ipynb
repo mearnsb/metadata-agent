{
 "cells": [
  {
   "cell_type": "code",
   "execution_count": 108,
   "metadata": {},
   "outputs": [],
   "source": [
    "import requests \n",
    "\n",
    "def chat_with_agent(message: str, session_id: str = \"test_session\"):\n",
    "    \"\"\"Send a chat message to the agent endpoint\"\"\"\n",
    "    \n",
    "    url = \"http://localhost:1234/api/v1/chat\"\n",
    "    \n",
    "    payload = {\n",
    "        \"message\": message,\n",
    "        \"session_id\": session_id,\n",
    "        \"metadata\": {\n",
    "            \"source\": \"test\",\n",
    "            \"user_id\": \"test_user\"\n",
    "        }\n",
    "    }\n",
    "    \n",
    "    headers = {\n",
    "        \"Content-Type\": \"application/json\"\n",
    "    }\n",
    "    \n",
    "    try:\n",
    "        response = requests.post(url, json=payload, headers=headers)\n",
    "        response.raise_for_status()\n",
    "        response_data = response.json()\n",
    "        \n",
    "        print(\"\\nResponse structure:\")\n",
    "        print(f\"Keys in response: {response_data.keys()}\")\n",
    "        print(f\"Chat history length: {len(response_data.get('chat_history', []))}\")\n",
    "        print(f\"Final response: {response_data['response']['content']}\")\n",
    "        \n",
    "        # Print chat history\n",
    "        print(\"\\nChat History:\")\n",
    "        for message in response_data.get('chat_history', []):\n",
    "            print(f\"{message['name']}: {message['content']}\")\n",
    "            \n",
    "        return response_data\n",
    "        \n",
    "    except requests.exceptions.RequestException as e:\n",
    "        print(f\"Error calling chat endpoint: {e}\")\n",
    "        if hasattr(e.response, 'text'):\n",
    "            print(f\"Error response: {e.response.text}\")\n",
    "        return None\n"
   ]
  },
  {
   "cell_type": "code",
   "execution_count": null,
   "metadata": {},
   "outputs": [],
   "source": [
    "response = chat_with_agent(\"What connections are available please list them ?\")\n",
    "\n",
    "for message in response[\"chat_history\"]:\n",
    "    print(f\"{message['name']}: {message['content']}\")"
   ]
  },
  {
   "cell_type": "code",
   "execution_count": null,
   "metadata": {},
   "outputs": [],
   "source": [
    "response = chat_with_agent(\"whats the bigquery connection name again? \")\n",
    "\n",
    "for message in response[\"chat_history\"]:\n",
    "    print(f\"{message['name']}: {message['content']}\")"
   ]
  },
  {
   "cell_type": "code",
   "execution_count": null,
   "metadata": {},
   "outputs": [],
   "source": [
    "response = chat_with_agent(\"whats the latest job results status ?\")\n",
    "\n",
    "for message in response[\"chat_history\"]:\n",
    "    print(f\"{message['name']}: {message['content'].replace(\"TERMINATE\", \"--------\")}\")"
   ]
  },
  {
   "cell_type": "code",
   "execution_count": null,
   "metadata": {},
   "outputs": [],
   "source": [
    "response = chat_with_agent(\"whast the bigquery connection name again?\")\n",
    "\n",
    "for message in response[\"chat_history\"]:\n",
    "    print(f\"{message['name']}: {message['content']}\")"
   ]
  },
  {
   "cell_type": "code",
   "execution_count": null,
   "metadata": {},
   "outputs": [],
   "source": [
    "response = chat_with_agent(\"is there a samples schema in the bigquery connection?\")\n",
    "\n",
    "for message in response[\"chat_history\"]:\n",
    "    print(f\"{message['name']}: {message['content']}\")"
   ]
  },
  {
   "cell_type": "code",
   "execution_count": null,
   "metadata": {},
   "outputs": [],
   "source": [
    "response = chat_with_agent(\"how many schemas are in the bigquery connection?\")\n",
    "\n",
    "for message in response[\"chat_history\"]:\n",
    "    print(f\"{message['name']}: {message['content']}\")"
   ]
  },
  {
   "cell_type": "code",
   "execution_count": null,
   "metadata": {},
   "outputs": [],
   "source": [
    "response = chat_with_agent(\"is there a samples schema, what schemas are in the bigquery connection?\")\n",
    "\n",
    "for message in response[\"chat_history\"]:\n",
    "    print(f\"{message['name']}: {message['content']}\")"
   ]
  },
  {
   "cell_type": "code",
   "execution_count": null,
   "metadata": {},
   "outputs": [],
   "source": [
    "response = chat_with_agent(\"are there tables with 'customer' in the name, in samples, in the bigquery connection\")\n",
    "\n",
    "for message in response[\"chat_history\"]:\n",
    "    print(f\"{message['name']}: {message['content']}\")"
   ]
  },
  {
   "cell_type": "code",
   "execution_count": null,
   "metadata": {},
   "outputs": [],
   "source": [
    "response = chat_with_agent(\"run a job for the table with customer in the name\")\n",
    "\n",
    "for message in response[\"chat_history\"]:\n",
    "    print(f\"{message['name']}: {message['content']}\")"
   ]
  },
  {
   "cell_type": "code",
   "execution_count": null,
   "metadata": {},
   "outputs": [],
   "source": [
    "response = chat_with_agent(\"are there tables with 'claims' in the name, in samples, in the bigquery connection\")\n",
    "\n",
    "for message in response[\"chat_history\"]:\n",
    "    print(f\"{message['name']}: {message['content']}\")"
   ]
  },
  {
   "cell_type": "code",
   "execution_count": null,
   "metadata": {},
   "outputs": [],
   "source": [
    "response = chat_with_agent(\"run a job for this claims_master_uploadr, use thes samples schema\")\n",
    "\n",
    "for message in response[\"chat_history\"]:\n",
    "    print(f\"{message['name']}: {message['content']}\")"
   ]
  },
  {
   "cell_type": "code",
   "execution_count": null,
   "metadata": {},
   "outputs": [],
   "source": [
    "response = chat_with_agent(\"whats the latest job results status? \")\n",
    "\n",
    "for message in response[\"chat_history\"]:\n",
    "    print(f\"{message['name']}: {message['content']}\")"
   ]
  },
  {
   "cell_type": "code",
   "execution_count": null,
   "metadata": {},
   "outputs": [],
   "source": [
    "# Get just the final message\n",
    "last_message = response[\"chat_history\"][-1]\n",
    "print(f\"Last message: {last_message['name']}: {last_message['content']}\")"
   ]
  },
  {
   "cell_type": "code",
   "execution_count": null,
   "metadata": {},
   "outputs": [],
   "source": [
    "print(response)"
   ]
  },
  {
   "cell_type": "code",
   "execution_count": null,
   "metadata": {},
   "outputs": [],
   "source": []
  }
 ],
 "metadata": {
  "kernelspec": {
   "display_name": "autogen",
   "language": "python",
   "name": "python3"
  },
  "language_info": {
   "codemirror_mode": {
    "name": "ipython",
    "version": 3
   },
   "file_extension": ".py",
   "mimetype": "text/x-python",
   "name": "python",
   "nbconvert_exporter": "python",
   "pygments_lexer": "ipython3",
   "version": "3.12.4"
  }
 },
 "nbformat": 4,
 "nbformat_minor": 2
}
