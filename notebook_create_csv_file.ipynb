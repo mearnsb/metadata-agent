{
 "cells": [
  {
   "cell_type": "code",
   "execution_count": null,
   "metadata": {},
   "outputs": [],
   "source": [
    "import os \n",
    "from dotenv import load_dotenv\n",
    "import requests\n",
    "import json\n",
    "import pandas as pd\n",
    "load_dotenv()\n",
    "\n",
    "url = os.environ.get(\"DQ_URL\")\n",
    "username = os.environ.get(\"DQ_USERNAME\")\n",
    "password = os.environ.get(\"DQ_CREDENTIAL\")\n",
    "tenant = os.environ.get(\"DQ_TENANT\")"
   ]
  },
  {
   "cell_type": "code",
   "execution_count": null,
   "metadata": {},
   "outputs": [],
   "source": [
    "def get_api_token():\n",
    "    prod_auth = requests.post(url + '/v3/auth/signin',\n",
    "                        headers={'Accept-Language': 'en-US,en;q=0.9', 'Connection': 'keep-alive', 'Content-Type': 'application/json'},\n",
    "                        data=json.dumps({'username': username, 'password': password, 'iss': tenant}),\n",
    "                            verify=False)\n",
    "    token = prod_auth.json()[\"token\"]\n",
    "    return token\n",
    "\n",
    "token = get_api_token()\n",
    "headers = {'Authorization': 'Bearer ' + token}"
   ]
  },
  {
   "cell_type": "code",
   "execution_count": null,
   "metadata": {},
   "outputs": [],
   "source": [
    "connections_list = requests.request('GET', url + '/v2/getconnectionaliases', headers=headers, verify=False)\n",
    "if connections_list.status_code == 200:\n",
    "    print(connections_list.json())"
   ]
  },
  {
   "cell_type": "code",
   "execution_count": null,
   "metadata": {},
   "outputs": [],
   "source": [
    "known_list = ['APPROVED_SNOWFLAKE_PUSHDOWN', 'APPROVED_SQL_SERVER_PD', 'APPROVED_SAPHANA_PD', 'APPROVED_BIGQUERY_PUSHDOWN']\n",
    "for c in connections_list.json():\n",
    "    if c['isPushdown'] > 0 and c['connectionType'] == 'jdbc' and c['aliasname'] in known_list:\n",
    "        print(c['aliasname'])"
   ]
  },
  {
   "cell_type": "code",
   "execution_count": null,
   "metadata": {},
   "outputs": [],
   "source": [
    "final_df = pd.DataFrame()\n",
    "\n",
    "for c in known_list:\n",
    "    dynamic_tree = requests.request('GET', url + f'/v2/getconnectionschematreebyaliasname?aliasname={c}&showviews=0&eagerfetch=true', headers=headers, verify=False)\n",
    "    df = pd.DataFrame([\n",
    "    {\"schema\": schema, \"table\": table}\n",
    "    for schema, tables in dynamic_tree.json().items()\n",
    "    for table in tables.values()\n",
    "    ])\n",
    "\n",
    "    # add column called 'connection_name'\n",
    "    # make it the first column \n",
    "    df.insert(0, 'connection_name', c)\n",
    "\n",
    "    # Append to the final dataframe\n",
    "    final_df = pd.concat([final_df, df], ignore_index=True)\n",
    "\n",
    "# Write to a csv file\n",
    "final_df.to_csv('connection_schema.csv', index=False)\n",
    "\n",
    "#final_df.drop_duplicates().count()"
   ]
  }
 ],
 "metadata": {
  "language_info": {
   "name": "python"
  }
 },
 "nbformat": 4,
 "nbformat_minor": 2
}
