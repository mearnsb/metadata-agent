{
 "cells": [
  {
   "cell_type": "code",
   "execution_count": null,
   "metadata": {},
   "outputs": [],
   "source": [
    "import numpy as np\n",
    "from openai import OpenAI\n",
    "import pandas as pd\n",
    "\n",
    "# file \"/tmp/snippets/actions.csv\"\n",
    "# input text column lookup_values\n",
    "# output column embedding\n",
    "\n",
    "client = OpenAI(max_retries=5)\n",
    "EMBEDDING_MODEL=\"text-embedding-ada-002\"\n",
    "\n",
    "def cosine_similarity(a, b):\n",
    "    return np.dot(a, b) / (np.linalg.norm(a) * np.linalg.norm(b))\n",
    "\n",
    "def get_embedding(text, model=EMBEDDING_MODEL):\n",
    "   text = text.replace(\"\\n\", \" \")\n",
    "   return client.embeddings.create(input = [text], model=model).data[0].embedding\n",
    "\n",
    "def search_docs(df, user_query, top_n=4, to_print=True):\n",
    "    embedding = get_embedding(\n",
    "        user_query,\n",
    "        model=EMBEDDING_MODEL \n",
    ")\n",
    "    df[\"similarities\"] = df.embedding.apply(lambda x: cosine_similarity(x, embedding))\n",
    "\n",
    "    res = (\n",
    "        df.sort_values(\"similarities\", ascending=False)\n",
    "        .head(top_n)\n",
    "    )\n",
    "    if to_print:\n",
    "        display(res)\n",
    "    return res\n",
    "\n",
    "df = pd.read_csv(\"/tmp/snippets/actions.csv\", index_col=0)\n",
    "df = df.dropna()\n",
    "df['embedding'] = df.lookup_values.apply(lambda x: get_embedding(x, model=EMBEDDING_MODEL))\n",
    "\n",
    "# uncomment tosave embeddings\n",
    "# df.to_csv(\"/tmp/snippets/actions_with_embeddings.csv\")"
   ]
  }
 ],
 "metadata": {
  "language_info": {
   "name": "python"
  }
 },
 "nbformat": 4,
 "nbformat_minor": 2
}
